{
  "nbformat": 4,
  "nbformat_minor": 0,
  "metadata": {
    "colab": {
      "provenance": [],
      "gpuType": "T4",
      "authorship_tag": "ABX9TyPyivC7jpZQ4wZ4q7Jy3gYE",
      "include_colab_link": true
    },
    "kernelspec": {
      "name": "python3",
      "display_name": "Python 3"
    },
    "language_info": {
      "name": "python"
    },
    "accelerator": "GPU"
  },
  "cells": [
    {
      "cell_type": "markdown",
      "metadata": {
        "id": "view-in-github",
        "colab_type": "text"
      },
      "source": [
        "<a href=\"https://colab.research.google.com/github/sumanurawat/bert-optimization/blob/main/notebooks/BERT_Baseline_Optimization.ipynb\" target=\"_parent\"><img src=\"https://colab.research.google.com/assets/colab-badge.svg\" alt=\"Open In Colab\"/></a>"
      ]
    },
    {
      "cell_type": "code",
      "execution_count": 15,
      "metadata": {
        "colab": {
          "base_uri": "https://localhost:8080/"
        },
        "id": "U2mQ3S2-8L1q",
        "outputId": "cf2dc8ee-f0fe-4744-da55-d0330b15d9b2"
      },
      "outputs": [
        {
          "output_type": "stream",
          "name": "stdout",
          "text": [
            "PyTorch version: 2.8.0+cu126\n",
            "CUDA available: True\n",
            "CUDA version: 12.6\n",
            "GPU: Tesla T4\n",
            "GPU Memory: 15.83 GB\n"
          ]
        }
      ],
      "source": [
        "import torch\n",
        "print(f\"PyTorch version: {torch.__version__}\")\n",
        "print(f\"CUDA available: {torch.cuda.is_available()}\")\n",
        "print(f\"CUDA version: {torch.version.cuda}\")\n",
        "if torch.cuda.is_available():\n",
        "    print(f\"GPU: {torch.cuda.get_device_name(0)}\")\n",
        "    print(f\"GPU Memory: {torch.cuda.get_device_properties(0).total_memory / 1e9:.2f} GB\")\n",
        "else:\n",
        "    print(\"⚠️ No GPU detected - check runtime settings!\")\n"
      ]
    },
    {
      "cell_type": "code",
      "source": [
        "# Install required packages\n",
        "!pip install -q transformers==4.44.0\n",
        "!pip install -q accelerate==0.34.0\n",
        "!pip install -q datasets==2.21.0\n",
        "!pip install -q sentencepiece==0.2.0\n",
        "\n",
        "print(\"✅ All packages installed!\")"
      ],
      "metadata": {
        "colab": {
          "base_uri": "https://localhost:8080/"
        },
        "id": "N9HcSHBR8Wvj",
        "outputId": "4d020fda-28a7-4a77-ecfb-07c2bd3edf69"
      },
      "execution_count": 16,
      "outputs": [
        {
          "output_type": "stream",
          "name": "stdout",
          "text": [
            "✅ All packages installed!\n"
          ]
        }
      ]
    },
    {
      "cell_type": "code",
      "source": [
        "import torch\n",
        "from transformers import AutoTokenizer, AutoModel\n",
        "import time\n",
        "import numpy as np\n",
        "from tqdm import tqdm\n",
        "import matplotlib.pyplot as plt\n",
        "\n",
        "print(\"✅ All imports successful!\")"
      ],
      "metadata": {
        "colab": {
          "base_uri": "https://localhost:8080/"
        },
        "id": "8UokabQz8eGf",
        "outputId": "8ea19f10-f080-468e-899a-ee03f5cade36"
      },
      "execution_count": 17,
      "outputs": [
        {
          "output_type": "stream",
          "name": "stdout",
          "text": [
            "✅ All imports successful!\n"
          ]
        }
      ]
    },
    {
      "cell_type": "code",
      "source": [
        "# Load BERT model and tokenizer\n",
        "print(\"📥 Loading BERT-base-uncased...\")\n",
        "\n",
        "model_name = \"bert-base-uncased\"\n",
        "tokenizer = AutoTokenizer.from_pretrained(model_name)\n",
        "model = AutoModel.from_pretrained(model_name)\n",
        "\n",
        "print(f\"✅ Model loaded: {model_name}\")\n",
        "print(f\"📊 Model size: {sum(p.numel() for p in model.parameters())/1e6:.1f}M parameters\")"
      ],
      "metadata": {
        "colab": {
          "base_uri": "https://localhost:8080/"
        },
        "id": "ZyVJ4tBf8ngs",
        "outputId": "defd1808-f832-4934-fbc9-b2c53a68e900"
      },
      "execution_count": 18,
      "outputs": [
        {
          "output_type": "stream",
          "name": "stdout",
          "text": [
            "📥 Loading BERT-base-uncased...\n"
          ]
        },
        {
          "output_type": "stream",
          "name": "stderr",
          "text": [
            "/usr/local/lib/python3.12/dist-packages/transformers/tokenization_utils_base.py:1601: FutureWarning: `clean_up_tokenization_spaces` was not set. It will be set to `True` by default. This behavior will be depracted in transformers v4.45, and will be then set to `False` by default. For more details check this issue: https://github.com/huggingface/transformers/issues/31884\n",
            "  warnings.warn(\n",
            "A parameter name that contains `beta` will be renamed internally to `bias`. Please use a different name to suppress this warning.\n",
            "A parameter name that contains `gamma` will be renamed internally to `weight`. Please use a different name to suppress this warning.\n",
            "A parameter name that contains `beta` will be renamed internally to `bias`. Please use a different name to suppress this warning.\n",
            "A parameter name that contains `gamma` will be renamed internally to `weight`. Please use a different name to suppress this warning.\n",
            "A parameter name that contains `beta` will be renamed internally to `bias`. Please use a different name to suppress this warning.\n",
            "A parameter name that contains `gamma` will be renamed internally to `weight`. Please use a different name to suppress this warning.\n",
            "A parameter name that contains `beta` will be renamed internally to `bias`. Please use a different name to suppress this warning.\n",
            "A parameter name that contains `gamma` will be renamed internally to `weight`. Please use a different name to suppress this warning.\n",
            "A parameter name that contains `beta` will be renamed internally to `bias`. Please use a different name to suppress this warning.\n",
            "A parameter name that contains `gamma` will be renamed internally to `weight`. Please use a different name to suppress this warning.\n",
            "A parameter name that contains `beta` will be renamed internally to `bias`. Please use a different name to suppress this warning.\n",
            "A parameter name that contains `gamma` will be renamed internally to `weight`. Please use a different name to suppress this warning.\n",
            "A parameter name that contains `beta` will be renamed internally to `bias`. Please use a different name to suppress this warning.\n",
            "A parameter name that contains `gamma` will be renamed internally to `weight`. Please use a different name to suppress this warning.\n",
            "A parameter name that contains `beta` will be renamed internally to `bias`. Please use a different name to suppress this warning.\n",
            "A parameter name that contains `gamma` will be renamed internally to `weight`. Please use a different name to suppress this warning.\n",
            "A parameter name that contains `beta` will be renamed internally to `bias`. Please use a different name to suppress this warning.\n",
            "A parameter name that contains `gamma` will be renamed internally to `weight`. Please use a different name to suppress this warning.\n",
            "A parameter name that contains `beta` will be renamed internally to `bias`. Please use a different name to suppress this warning.\n",
            "A parameter name that contains `gamma` will be renamed internally to `weight`. Please use a different name to suppress this warning.\n",
            "A parameter name that contains `beta` will be renamed internally to `bias`. Please use a different name to suppress this warning.\n",
            "A parameter name that contains `gamma` will be renamed internally to `weight`. Please use a different name to suppress this warning.\n",
            "A parameter name that contains `beta` will be renamed internally to `bias`. Please use a different name to suppress this warning.\n",
            "A parameter name that contains `gamma` will be renamed internally to `weight`. Please use a different name to suppress this warning.\n",
            "A parameter name that contains `beta` will be renamed internally to `bias`. Please use a different name to suppress this warning.\n",
            "A parameter name that contains `gamma` will be renamed internally to `weight`. Please use a different name to suppress this warning.\n",
            "A parameter name that contains `beta` will be renamed internally to `bias`. Please use a different name to suppress this warning.\n",
            "A parameter name that contains `gamma` will be renamed internally to `weight`. Please use a different name to suppress this warning.\n",
            "A parameter name that contains `beta` will be renamed internally to `bias`. Please use a different name to suppress this warning.\n",
            "A parameter name that contains `gamma` will be renamed internally to `weight`. Please use a different name to suppress this warning.\n",
            "A parameter name that contains `beta` will be renamed internally to `bias`. Please use a different name to suppress this warning.\n",
            "A parameter name that contains `gamma` will be renamed internally to `weight`. Please use a different name to suppress this warning.\n",
            "A parameter name that contains `beta` will be renamed internally to `bias`. Please use a different name to suppress this warning.\n",
            "A parameter name that contains `gamma` will be renamed internally to `weight`. Please use a different name to suppress this warning.\n",
            "A parameter name that contains `beta` will be renamed internally to `bias`. Please use a different name to suppress this warning.\n",
            "A parameter name that contains `gamma` will be renamed internally to `weight`. Please use a different name to suppress this warning.\n",
            "A parameter name that contains `beta` will be renamed internally to `bias`. Please use a different name to suppress this warning.\n",
            "A parameter name that contains `gamma` will be renamed internally to `weight`. Please use a different name to suppress this warning.\n",
            "A parameter name that contains `beta` will be renamed internally to `bias`. Please use a different name to suppress this warning.\n",
            "A parameter name that contains `gamma` will be renamed internally to `weight`. Please use a different name to suppress this warning.\n",
            "A parameter name that contains `beta` will be renamed internally to `bias`. Please use a different name to suppress this warning.\n",
            "A parameter name that contains `gamma` will be renamed internally to `weight`. Please use a different name to suppress this warning.\n",
            "A parameter name that contains `beta` will be renamed internally to `bias`. Please use a different name to suppress this warning.\n",
            "A parameter name that contains `gamma` will be renamed internally to `weight`. Please use a different name to suppress this warning.\n",
            "A parameter name that contains `beta` will be renamed internally to `bias`. Please use a different name to suppress this warning.\n",
            "A parameter name that contains `gamma` will be renamed internally to `weight`. Please use a different name to suppress this warning.\n",
            "A parameter name that contains `beta` will be renamed internally to `bias`. Please use a different name to suppress this warning.\n",
            "A parameter name that contains `gamma` will be renamed internally to `weight`. Please use a different name to suppress this warning.\n",
            "A parameter name that contains `beta` will be renamed internally to `bias`. Please use a different name to suppress this warning.\n",
            "A parameter name that contains `gamma` will be renamed internally to `weight`. Please use a different name to suppress this warning.\n",
            "A parameter name that contains `beta` will be renamed internally to `bias`. Please use a different name to suppress this warning.\n",
            "A parameter name that contains `gamma` will be renamed internally to `weight`. Please use a different name to suppress this warning.\n"
          ]
        },
        {
          "output_type": "stream",
          "name": "stdout",
          "text": [
            "✅ Model loaded: bert-base-uncased\n",
            "📊 Model size: 109.5M parameters\n"
          ]
        }
      ]
    },
    {
      "cell_type": "code",
      "source": [
        "# Move model to GPU\n",
        "device = torch.device(\"cuda\" if torch.cuda.is_available() else \"cpu\")\n",
        "model = model.to(device)\n",
        "model.eval()  # Set to evaluation mode\n",
        "\n",
        "print(f\"✅ Model moved to: {device}\")\n",
        "print(f\"🎯 Model is on GPU: {next(model.parameters()).is_cuda}\")"
      ],
      "metadata": {
        "colab": {
          "base_uri": "https://localhost:8080/"
        },
        "id": "5glkeUUN86Hc",
        "outputId": "b843470b-9cf6-48c6-ab23-96688b084a4e"
      },
      "execution_count": 19,
      "outputs": [
        {
          "output_type": "stream",
          "name": "stdout",
          "text": [
            "✅ Model moved to: cuda\n",
            "🎯 Model is on GPU: True\n"
          ]
        }
      ]
    },
    {
      "cell_type": "code",
      "source": [
        "# See what the 14 tokens are\n",
        "test_text = \"This is a test sentence to measure BERT inference latency.\"\n",
        "\n",
        "# Tokenize and see tokens\n",
        "inputs = tokenizer(test_text, return_tensors=\"pt\")\n",
        "tokens = tokenizer.convert_ids_to_tokens(inputs['input_ids'][0])\n",
        "\n",
        "print(f\"Original text: {test_text}\")\n",
        "print(f\"\\nNumber of tokens: {len(tokens)}\")\n",
        "print(f\"\\nTokens breakdown:\")\n",
        "for i, token in enumerate(tokens):\n",
        "    print(f\"  {i}: '{token}'\")\n",
        "\n",
        "print(f\"\\nOutput shape: [batch_size, num_tokens, embedding_dim]\")\n",
        "print(f\"             = [1, {len(tokens)}, 768]\")"
      ],
      "metadata": {
        "colab": {
          "base_uri": "https://localhost:8080/"
        },
        "id": "I-idGrRoAQvR",
        "outputId": "f0207709-6fa7-4a24-fed8-12ea4422d31a"
      },
      "execution_count": 20,
      "outputs": [
        {
          "output_type": "stream",
          "name": "stdout",
          "text": [
            "Original text: This is a test sentence to measure BERT inference latency.\n",
            "\n",
            "Number of tokens: 14\n",
            "\n",
            "Tokens breakdown:\n",
            "  0: '[CLS]'\n",
            "  1: 'this'\n",
            "  2: 'is'\n",
            "  3: 'a'\n",
            "  4: 'test'\n",
            "  5: 'sentence'\n",
            "  6: 'to'\n",
            "  7: 'measure'\n",
            "  8: 'bert'\n",
            "  9: 'inference'\n",
            "  10: 'late'\n",
            "  11: '##ncy'\n",
            "  12: '.'\n",
            "  13: '[SEP]'\n",
            "\n",
            "Output shape: [batch_size, num_tokens, embedding_dim]\n",
            "             = [1, 14, 768]\n"
          ]
        }
      ]
    },
    {
      "cell_type": "code",
      "source": [
        "# Test single inference\n",
        "test_text = \"This is a test sentence to measure BERT inference latency.\"\n",
        "\n",
        "# Tokenize\n",
        "inputs = tokenizer(test_text, return_tensors=\"pt\", padding=True, truncation=True)\n",
        "inputs = {k: v.to(device) for k, v in inputs.items()}\n",
        "\n",
        "# Run inference\n",
        "with torch.no_grad():\n",
        "    outputs = model(**inputs)\n",
        "\n",
        "print(\"✅ Single inference successful!\")\n",
        "print(f\"📊 Output shape: {outputs.last_hidden_state.shape}\")"
      ],
      "metadata": {
        "colab": {
          "base_uri": "https://localhost:8080/"
        },
        "id": "gGWk1faK9GwC",
        "outputId": "6deed2b3-22e6-4823-ba77-e039dedd4028"
      },
      "execution_count": 21,
      "outputs": [
        {
          "output_type": "stream",
          "name": "stdout",
          "text": [
            "✅ Single inference successful!\n",
            "📊 Output shape: torch.Size([1, 14, 768])\n"
          ]
        }
      ]
    },
    {
      "cell_type": "code",
      "source": [
        "# Warm-up: Run model a few times to stabilize GPU\n",
        "print(\"🔥 Warming up GPU...\")\n",
        "\n",
        "for i in range(10):\n",
        "    with torch.no_grad():\n",
        "        _ = model(**inputs)\n",
        "    if (i + 1) % 5 == 0:\n",
        "        print(f\"   Warm-up: {i+1}/10\")\n",
        "\n",
        "print(\"✅ Warm-up complete!\")"
      ],
      "metadata": {
        "colab": {
          "base_uri": "https://localhost:8080/"
        },
        "id": "S0yN0zJm9jUy",
        "outputId": "44bb855a-911c-4475-9247-a49a45ad7c8a"
      },
      "execution_count": 22,
      "outputs": [
        {
          "output_type": "stream",
          "name": "stdout",
          "text": [
            "🔥 Warming up GPU...\n",
            "   Warm-up: 5/10\n",
            "   Warm-up: 10/10\n",
            "✅ Warm-up complete!\n"
          ]
        }
      ]
    },
    {
      "cell_type": "code",
      "source": [
        "# Benchmark baseline latency\n",
        "print(\"⏱️  Measuring baseline latency...\")\n",
        "\n",
        "num_runs = 100\n",
        "latencies = []\n",
        "\n",
        "for i in tqdm(range(num_runs), desc=\"Benchmarking\"):\n",
        "    start = time.time()\n",
        "    with torch.no_grad():\n",
        "        _ = model(**inputs)\n",
        "    torch.cuda.synchronize()  # Wait for GPU to finish\n",
        "    end = time.time()\n",
        "    latencies.append((end - start) * 1000)  # Convert to milliseconds\n",
        "\n",
        "# Calculate statistics\n",
        "avg_latency = np.mean(latencies)\n",
        "std_latency = np.std(latencies)\n",
        "p50_latency = np.percentile(latencies, 50)\n",
        "p95_latency = np.percentile(latencies, 95)\n",
        "p99_latency = np.percentile(latencies, 99)\n",
        "\n",
        "print(\"\\n\" + \"=\"*50)\n",
        "print(\"📊 BASELINE RESULTS (FP32)\")\n",
        "print(\"=\"*50)\n",
        "print(f\"Average Latency: {avg_latency:.2f} ms\")\n",
        "print(f\"Std Dev:         {std_latency:.2f} ms\")\n",
        "print(f\"P50 (Median):    {p50_latency:.2f} ms\")\n",
        "print(f\"P95:             {p95_latency:.2f} ms\")\n",
        "print(f\"P99:             {p99_latency:.2f} ms\")\n",
        "print(f\"Min:             {min(latencies):.2f} ms\")\n",
        "print(f\"Max:             {max(latencies):.2f} ms\")\n",
        "print(\"=\"*50)"
      ],
      "metadata": {
        "colab": {
          "base_uri": "https://localhost:8080/"
        },
        "id": "DRsEFKw091D4",
        "outputId": "94be067f-9687-4b7a-9a4a-d0ac764c0ce3"
      },
      "execution_count": 23,
      "outputs": [
        {
          "output_type": "stream",
          "name": "stdout",
          "text": [
            "⏱️  Measuring baseline latency...\n"
          ]
        },
        {
          "output_type": "stream",
          "name": "stderr",
          "text": [
            "Benchmarking: 100%|██████████| 100/100 [00:01<00:00, 56.55it/s]"
          ]
        },
        {
          "output_type": "stream",
          "name": "stdout",
          "text": [
            "\n",
            "==================================================\n",
            "📊 BASELINE RESULTS (FP32)\n",
            "==================================================\n",
            "Average Latency: 17.40 ms\n",
            "Std Dev:         9.28 ms\n",
            "P50 (Median):    13.87 ms\n",
            "P95:             34.93 ms\n",
            "P99:             45.67 ms\n",
            "Min:             7.09 ms\n",
            "Max:             62.63 ms\n",
            "==================================================\n"
          ]
        },
        {
          "output_type": "stream",
          "name": "stderr",
          "text": [
            "\n"
          ]
        }
      ]
    },
    {
      "cell_type": "code",
      "source": [
        "# Plot latency distribution\n",
        "plt.figure(figsize=(10, 6))\n",
        "plt.hist(latencies, bins=30, edgecolor='black', alpha=0.7)\n",
        "plt.axvline(avg_latency, color='red', linestyle='--', linewidth=2, label=f'Mean: {avg_latency:.2f}ms')\n",
        "plt.axvline(p95_latency, color='orange', linestyle='--', linewidth=2, label=f'P95: {p95_latency:.2f}ms')\n",
        "plt.xlabel('Latency (ms)', fontsize=12)\n",
        "plt.ylabel('Frequency', fontsize=12)\n",
        "plt.title('BERT Baseline Latency Distribution (FP32 on T4 GPU)', fontsize=14, fontweight='bold')\n",
        "plt.legend()\n",
        "plt.grid(True, alpha=0.3)\n",
        "plt.tight_layout()\n",
        "plt.savefig('bert_baseline_latency.png', dpi=150, bbox_inches='tight')\n",
        "plt.show()\n",
        "\n",
        "print(\"✅ Chart saved as bert_baseline_latency.png\")"
      ],
      "metadata": {
        "colab": {
          "base_uri": "https://localhost:8080/",
          "height": 624
        },
        "id": "uXySbbmc94n1",
        "outputId": "d003fc3d-57ed-4f24-8138-7902056a88e7"
      },
      "execution_count": 24,
      "outputs": [
        {
          "output_type": "display_data",
          "data": {
            "text/plain": [
              "<Figure size 1000x600 with 1 Axes>"
            ],
            "image/png": "[encoded data removed]"
          },
          "metadata": {}
        },
        {
          "output_type": "stream",
          "name": "stdout",
          "text": [
            "✅ Chart saved as bert_baseline_latency.png\n"
          ]
        }
      ]
    },
    {
      "cell_type": "code",
      "source": [
        "# Benchmark throughput (sentences per second)\n",
        "print(\"🚀 Measuring throughput...\")\n",
        "\n",
        "# Prepare batch of sentences\n",
        "batch_texts = [\n",
        "    \"This is sentence 1.\",\n",
        "    \"Here is another test sentence.\",\n",
        "    \"BERT processes multiple sentences.\",\n",
        "    \"Machine learning is awesome.\",\n",
        "] * 8  # 32 sentences total\n",
        "\n",
        "# Tokenize batch\n",
        "batch_inputs = tokenizer(batch_texts, return_tensors=\"pt\", padding=True, truncation=True)\n",
        "batch_inputs = {k: v.to(device) for k, v in batch_inputs.items()}\n",
        "\n",
        "# Warm-up\n",
        "for _ in range(5):\n",
        "    with torch.no_grad():\n",
        "        _ = model(**batch_inputs)\n",
        "\n",
        "# Measure\n",
        "num_batches = 50\n",
        "start = time.time()\n",
        "\n",
        "for _ in tqdm(range(num_batches), desc=\"Throughput test\"):\n",
        "    with torch.no_grad():\n",
        "        _ = model(**batch_inputs)\n",
        "    torch.cuda.synchronize()\n",
        "\n",
        "end = time.time()\n",
        "\n",
        "total_sentences = len(batch_texts) * num_batches\n",
        "total_time = end - start\n",
        "throughput = total_sentences / total_time\n",
        "\n",
        "print(\"\\n\" + \"=\"*50)\n",
        "print(\"📊 THROUGHPUT RESULTS\")\n",
        "print(\"=\"*50)\n",
        "print(f\"Total sentences: {total_sentences}\")\n",
        "print(f\"Total time:      {total_time:.2f} seconds\")\n",
        "print(f\"Throughput:      {throughput:.2f} sentences/second\")\n",
        "print(\"=\"*50)"
      ],
      "metadata": {
        "colab": {
          "base_uri": "https://localhost:8080/"
        },
        "id": "OawLWQUD967X",
        "outputId": "959c89c7-94b5-41c1-c78f-ee4671cdddaa"
      },
      "execution_count": 25,
      "outputs": [
        {
          "output_type": "stream",
          "name": "stdout",
          "text": [
            "🚀 Measuring throughput...\n"
          ]
        },
        {
          "output_type": "stream",
          "name": "stderr",
          "text": [
            "Throughput test: 100%|██████████| 50/50 [00:01<00:00, 42.67it/s]"
          ]
        },
        {
          "output_type": "stream",
          "name": "stdout",
          "text": [
            "\n",
            "==================================================\n",
            "📊 THROUGHPUT RESULTS\n",
            "==================================================\n",
            "Total sentences: 1600\n",
            "Total time:      1.18 seconds\n",
            "Throughput:      1359.59 sentences/second\n",
            "==================================================\n"
          ]
        },
        {
          "output_type": "stream",
          "name": "stderr",
          "text": [
            "\n"
          ]
        }
      ]
    },
    {
      "cell_type": "code",
      "source": [
        "# Create comprehensive results summary\n",
        "results = f\"\"\"\n",
        "# BERT Baseline Optimization - Results\n",
        "\n",
        "**Date:** {time.strftime('%Y-%m-%d')}\n",
        "**Hardware:** {torch.cuda.get_device_name(0)}\n",
        "**Model:** bert-base-uncased\n",
        "**Precision:** FP32\n",
        "\n",
        "## Latency Metrics (Single Inference)\n",
        "- Average: {avg_latency:.2f} ms\n",
        "- P50 (Median): {p50_latency:.2f} ms\n",
        "- P95: {p95_latency:.2f} ms\n",
        "- P99: {p99_latency:.2f} ms\n",
        "- Std Dev: {std_latency:.2f} ms\n",
        "\n",
        "## Throughput Metrics (Batch Processing)\n",
        "- Throughput: {throughput:.2f} sentences/second\n",
        "- Batch size: {len(batch_texts)} sentences\n",
        "\n",
        "## Model Information\n",
        "- Parameters: {sum(p.numel() for p in model.parameters())/1e6:.1f}M\n",
        "- GPU Memory Used: {torch.cuda.max_memory_allocated()/1e9:.2f} GB\n",
        "\n",
        "## Next Steps\n",
        "- Week 2: INT8/FP16 quantization (target: 2-3x speedup)\n",
        "- Week 2: ONNX Runtime optimization\n",
        "- Week 3: Dynamic batching and caching\n",
        "- Week 3: FastAPI serving deployment\n",
        "\n",
        "---\n",
        "*Generated by BERT Optimization Project*\n",
        "*Tech Stack: PyTorch, CUDA, Transformers*\n",
        "\"\"\"\n",
        "\n",
        "print(results)\n",
        "\n",
        "# Save to file\n",
        "with open('baseline_results.md', 'w') as f:\n",
        "    f.write(results)\n",
        "\n",
        "print(\"\\n✅ Results saved to baseline_results.md\")"
      ],
      "metadata": {
        "colab": {
          "base_uri": "https://localhost:8080/"
        },
        "id": "JsbK5D6Z-ERt",
        "outputId": "93839643-db2d-4c29-eaae-ff5cffa0ff60"
      },
      "execution_count": 26,
      "outputs": [
        {
          "output_type": "stream",
          "name": "stdout",
          "text": [
            "\n",
            "# BERT Baseline Optimization - Results\n",
            "\n",
            "**Date:** 2025-10-20\n",
            "**Hardware:** Tesla T4\n",
            "**Model:** bert-base-uncased\n",
            "**Precision:** FP32\n",
            "\n",
            "## Latency Metrics (Single Inference)\n",
            "- Average: 17.40 ms\n",
            "- P50 (Median): 13.87 ms\n",
            "- P95: 34.93 ms\n",
            "- P99: 45.67 ms\n",
            "- Std Dev: 9.28 ms\n",
            "\n",
            "## Throughput Metrics (Batch Processing)\n",
            "- Throughput: 1359.59 sentences/second\n",
            "- Batch size: 32 sentences\n",
            "\n",
            "## Model Information\n",
            "- Parameters: 109.5M\n",
            "- GPU Memory Used: 0.46 GB\n",
            "\n",
            "## Next Steps\n",
            "- Week 2: INT8/FP16 quantization (target: 2-3x speedup)\n",
            "- Week 2: ONNX Runtime optimization\n",
            "- Week 3: Dynamic batching and caching\n",
            "- Week 3: FastAPI serving deployment\n",
            "\n",
            "---\n",
            "*Generated by BERT Optimization Project*\n",
            "*Tech Stack: PyTorch, CUDA, Transformers*\n",
            "\n",
            "\n",
            "✅ Results saved to baseline_results.md\n"
          ]
        }
      ]
    },
    {
      "cell_type": "code",
      "source": [
        "# Download files to your local machine\n",
        "from google.colab import files\n",
        "\n",
        "# Download notebook (you'll do this manually)\n",
        "print(\"📥 To download this notebook:\")\n",
        "print(\"   File → Download → Download .ipynb\")\n",
        "\n",
        "# Download results\n",
        "files.download('baseline_results.md')\n",
        "files.download('bert_baseline_latency.png')\n",
        "\n",
        "print(\"\\n✅ Files ready for download!\")"
      ],
      "metadata": {
        "colab": {
          "base_uri": "https://localhost:8080/",
          "height": 86
        },
        "id": "18jLEYJb-RH2",
        "outputId": "11b0ee20-8f0c-4832-959a-1428197f9b85"
      },
      "execution_count": 27,
      "outputs": [
        {
          "output_type": "stream",
          "name": "stdout",
          "text": [
            "📥 To download this notebook:\n",
            "   File → Download → Download .ipynb\n"
          ]
        },
        {
          "output_type": "display_data",
          "data": {
            "text/plain": [
              "<IPython.core.display.Javascript object>"
            ],
            "application/javascript": [
              "\n",
              "    async function download(id, filename, size) {\n",
              "      if (!google.colab.kernel.accessAllowed) {\n",
              "        return;\n",
              "      }\n",
              "      const div = document.createElement('div');\n",
              "      const label = document.createElement('label');\n",
              "      label.textContent = `Downloading \"${filename}\": `;\n",
              "      div.appendChild(label);\n",
              "      const progress = document.createElement('progress');\n",
              "      progress.max = size;\n",
              "      div.appendChild(progress);\n",
              "      document.body.appendChild(div);\n",
              "\n",
              "      const buffers = [];\n",
              "      let downloaded = 0;\n",
              "\n",
              "      const channel = await google.colab.kernel.comms.open(id);\n",
              "      // Send a message to notify the kernel that we're ready.\n",
              "      channel.send({})\n",
              "\n",
              "      for await (const message of channel.messages) {\n",
              "        // Send a message to notify the kernel that we're ready.\n",
              "        channel.send({})\n",
              "        if (message.buffers) {\n",
              "          for (const buffer of message.buffers) {\n",
              "            buffers.push(buffer);\n",
              "            downloaded += buffer.byteLength;\n",
              "            progress.value = downloaded;\n",
              "          }\n",
              "        }\n",
              "      }\n",
              "      const blob = new Blob(buffers, {type: 'application/binary'});\n",
              "      const a = document.createElement('a');\n",
              "      a.href = window.URL.createObjectURL(blob);\n",
              "      a.download = filename;\n",
              "      div.appendChild(a);\n",
              "      a.click();\n",
              "      div.remove();\n",
              "    }\n",
              "  "
            ]
          },
          "metadata": {}
        },
        {
          "output_type": "display_data",
          "data": {
            "text/plain": [
              "<IPython.core.display.Javascript object>"
            ],
            "application/javascript": [
              "download(\"download_02c371e3-2d22-4413-8bd3-061c34ad7471\", \"baseline_results.md\", 718)"
            ]
          },
          "metadata": {}
        },
        {
          "output_type": "display_data",
          "data": {
            "text/plain": [
              "<IPython.core.display.Javascript object>"
            ],
            "application/javascript": [
              "\n",
              "    async function download(id, filename, size) {\n",
              "      if (!google.colab.kernel.accessAllowed) {\n",
              "        return;\n",
              "      }\n",
              "      const div = document.createElement('div');\n",
              "      const label = document.createElement('label');\n",
              "      label.textContent = `Downloading \"${filename}\": `;\n",
              "      div.appendChild(label);\n",
              "      const progress = document.createElement('progress');\n",
              "      progress.max = size;\n",
              "      div.appendChild(progress);\n",
              "      document.body.appendChild(div);\n",
              "\n",
              "      const buffers = [];\n",
              "      let downloaded = 0;\n",
              "\n",
              "      const channel = await google.colab.kernel.comms.open(id);\n",
              "      // Send a message to notify the kernel that we're ready.\n",
              "      channel.send({})\n",
              "\n",
              "      for await (const message of channel.messages) {\n",
              "        // Send a message to notify the kernel that we're ready.\n",
              "        channel.send({})\n",
              "        if (message.buffers) {\n",
              "          for (const buffer of message.buffers) {\n",
              "            buffers.push(buffer);\n",
              "            downloaded += buffer.byteLength;\n",
              "            progress.value = downloaded;\n",
              "          }\n",
              "        }\n",
              "      }\n",
              "      const blob = new Blob(buffers, {type: 'application/binary'});\n",
              "      const a = document.createElement('a');\n",
              "      a.href = window.URL.createObjectURL(blob);\n",
              "      a.download = filename;\n",
              "      div.appendChild(a);\n",
              "      a.click();\n",
              "      div.remove();\n",
              "    }\n",
              "  "
            ]
          },
          "metadata": {}
        },
        {
          "output_type": "display_data",
          "data": {
            "text/plain": [
              "<IPython.core.display.Javascript object>"
            ],
            "application/javascript": [
              "download(\"download_eb9eee95-e9db-4353-b192-1fcaef29a100\", \"bert_baseline_latency.png\", 49028)"
            ]
          },
          "metadata": {}
        },
        {
          "output_type": "stream",
          "name": "stdout",
          "text": [
            "\n",
            "✅ Files ready for download!\n"
          ]
        }
      ]
    },
    {
      "cell_type": "code",
      "source": [],
      "metadata": {
        "id": "GT-4x_1x-j3G"
      },
      "execution_count": 27,
      "outputs": []
    }
  ]
}